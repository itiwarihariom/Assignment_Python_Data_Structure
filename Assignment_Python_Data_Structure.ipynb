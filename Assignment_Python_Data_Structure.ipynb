{
  "cells": [
    {
      "cell_type": "markdown",
      "metadata": {
        "id": "olupGBI9Dqmq"
      },
      "source": [
        "#1. What are data structures, and why are they important?\n",
        "\n",
        "- Data structures are ways to organize and store data efficiently. They are important because they optimize data access, improve processing speed, and help manage large amounts of data effectively.\n",
        "\n",
        "#2. Difference between mutable and immutable data types with examples:\n",
        "\n",
        "- Mutable: Can be changed after creation (e.g., lists: list1 = [1, 2, 3] → list1.append(4)).\n",
        "\n",
        "- Immutable: Cannot be changed after creation (e.g., tuples: tuple1 = (1, 2, 3)).\n",
        "\n",
        "#3. Main differences between lists and tuples in Python:\n",
        "\n",
        "- Lists are mutable, while tuples are immutable.\n",
        "\n",
        "- Lists have more methods and are slightly slower than tuples.\n",
        "\n",
        "#4. How dictionaries store data:\n",
        "\n",
        "- Dictionaries use key-value pairs and a hash table for quick lookups.\n",
        "\n",
        "#5. Why use a set instead of a list in Python?\n",
        "\n",
        "- Sets remove duplicates and allow fast membership checks (O(1) complexity).\n",
        "\n",
        "#6. What is a string in Python, and how is it different from a list?\n",
        "\n",
        "- A string is an immutable sequence of characters, whereas a list is mutable and can store different data types.\n",
        "\n",
        "#7. How do tuples ensure data integrity in Python?\n",
        "\n",
        "- Tuples are immutable, preventing unintended modifications.\n",
        "\n",
        "#8. What is a hash table, and how does it relate to dictionaries in Python?\n",
        "\n",
        "- A hash table stores key-value pairs using a hash function, which is how Python dictionaries work internally.\n",
        "\n",
        "#9. Can lists contain different data types in Python?\n",
        "\n",
        "- Yes, a list can store mixed data types (e.g., [1, \"hello\", 3.14]).\n",
        "\n",
        "#10. Why are strings immutable in Python?\n",
        "\n",
        "- Strings are immutable to enhance security, performance, and memory optimization.\n",
        "\n",
        "#11. Advantages of dictionaries over lists:\n",
        "\n",
        "- Faster lookups (O(1) for keys) compared to lists (O(n) search time).\n",
        "\n",
        "#12. Scenario where using a tuple is preferable over a list:\n",
        "\n",
        "- When storing fixed configurations like database credentials.\n",
        "\n",
        "#13. How do sets handle duplicate values?\n",
        "\n",
        "- Sets automatically remove duplicates.\n",
        "\n",
        "#14. How does the in keyword work for lists and dictionaries?\n",
        "\n",
        "- For lists, it checks elements (O(n) complexity), while for dictionaries, it checks keys (O(1) complexity).\n",
        "\n",
        "#15. Can you modify tuple elements? Why or why not?\n",
        "\n",
        "- No, because tuples are immutable.\n",
        "\n",
        "#16. What is a nested dictionary? Example:\n",
        "\n"
      ]
    },
    {
      "cell_type": "code",
      "execution_count": null,
      "metadata": {
        "colab": {
          "base_uri": "https://localhost:8080/"
        },
        "id": "sAdedsx4F8ia",
        "outputId": "d6b173b2-f5f3-42ed-b647-36de841a01da"
      },
      "outputs": [
        {
          "data": {
            "text/plain": [
              "dict"
            ]
          },
          "execution_count": 3,
          "metadata": {},
          "output_type": "execute_result"
        }
      ],
      "source": [
        "student = {\"name\": \"John\", \"details\": {\"age\": 25, \"city\": \"NY\"}}\n",
        "type(student)"
      ]
    },
    {
      "cell_type": "markdown",
      "metadata": {
        "id": "caiF9s1zGMbP"
      },
      "source": [
        "#17. Time complexity of accessing elements in a dictionary:\n",
        "\n",
        "- O(1) on average.\n",
        "\n",
        "#18. Situations where lists are preferred over dictionaries:\n",
        "\n",
        "- When order and indexing are important.\n",
        "\n",
        "#19. Why are dictionaries unordered?\n",
        "\n",
        "- They use hash functions, which do not maintain order.\n",
        "\n",
        "#20. Difference between lists and dictionaries in data retrieval:\n",
        "\n",
        "- Lists use indexing, while dictionaries use keys."
      ]
    },
    {
      "cell_type": "markdown",
      "metadata": {
        "id": "7ks9ggS6Gcku"
      },
      "source": [
        "##  Practical Questions"
      ]
    },
    {
      "cell_type": "markdown",
      "metadata": {
        "id": "0rUtNMxgGpGb"
      },
      "source": [
        "#1. Write a code to create a string with your name and print it."
      ]
    },
    {
      "cell_type": "code",
      "execution_count": null,
      "metadata": {
        "colab": {
          "base_uri": "https://localhost:8080/"
        },
        "id": "a9f35lHCGx1Z",
        "outputId": "62d0df82-bd8d-4215-a923-8f8899df916c"
      },
      "outputs": [
        {
          "name": "stdout",
          "output_type": "stream",
          "text": [
            "YourName\n"
          ]
        }
      ],
      "source": [
        "name = \"YourName\"\n",
        "print(name)"
      ]
    },
    {
      "cell_type": "markdown",
      "metadata": {
        "id": "XzBPR3uEG5so"
      },
      "source": [
        "#2. Write a code to find the length of the string \"Hello World\"."
      ]
    },
    {
      "cell_type": "code",
      "execution_count": null,
      "metadata": {
        "colab": {
          "base_uri": "https://localhost:8080/"
        },
        "id": "mAjR2WR7HB41",
        "outputId": "bb1b429f-bcb5-41a2-ad3d-ebf1e873ede9"
      },
      "outputs": [
        {
          "name": "stdout",
          "output_type": "stream",
          "text": [
            "11\n"
          ]
        }
      ],
      "source": [
        "print(len(\"Hello World\"))"
      ]
    },
    {
      "cell_type": "markdown",
      "metadata": {
        "id": "U2XYntKCHGRF"
      },
      "source": [
        "#3. Write a code to slice the first 3 characters from the string \"Python Programming\"."
      ]
    },
    {
      "cell_type": "code",
      "execution_count": null,
      "metadata": {
        "colab": {
          "base_uri": "https://localhost:8080/"
        },
        "id": "9Exgv1DcHLC8",
        "outputId": "f27c2476-a87f-4827-f0d7-aa1deb926e12"
      },
      "outputs": [
        {
          "name": "stdout",
          "output_type": "stream",
          "text": [
            "Pyt\n"
          ]
        }
      ],
      "source": [
        "print(\"Python Programming\"[:3])"
      ]
    },
    {
      "cell_type": "markdown",
      "metadata": {
        "id": "GKJzI689HPW3"
      },
      "source": [
        "#4. Write a code to convert the string \"hello\" to uppercase."
      ]
    },
    {
      "cell_type": "code",
      "execution_count": null,
      "metadata": {
        "colab": {
          "base_uri": "https://localhost:8080/"
        },
        "id": "e-uSa-xPHTcD",
        "outputId": "5f198632-b80c-4974-bdef-408adce868a5"
      },
      "outputs": [
        {
          "name": "stdout",
          "output_type": "stream",
          "text": [
            "HELLO\n"
          ]
        }
      ],
      "source": [
        "print(\"hello\".upper())"
      ]
    },
    {
      "cell_type": "markdown",
      "metadata": {
        "id": "rfV5VTO8HYW8"
      },
      "source": [
        "#5. Write a code to replace the word \"apple\" with \"orange\" in the string \"I like apple\"."
      ]
    },
    {
      "cell_type": "code",
      "execution_count": null,
      "metadata": {
        "colab": {
          "base_uri": "https://localhost:8080/"
        },
        "id": "AWfXpCQWHdAj",
        "outputId": "5d131003-9056-4faa-bff0-4f72b51683da"
      },
      "outputs": [
        {
          "name": "stdout",
          "output_type": "stream",
          "text": [
            "I like orange\n"
          ]
        }
      ],
      "source": [
        "print(\"I like apple\".replace(\"apple\", \"orange\"))"
      ]
    },
    {
      "cell_type": "markdown",
      "metadata": {
        "id": "1EuUdghRHlAO"
      },
      "source": [
        "#6. Write a code to create a list with numbers 1 to 5 and print it."
      ]
    },
    {
      "cell_type": "code",
      "execution_count": null,
      "metadata": {
        "colab": {
          "base_uri": "https://localhost:8080/"
        },
        "id": "XPSVuBnQHyjt",
        "outputId": "f6775ed1-bca1-4d83-99ea-81605470b282"
      },
      "outputs": [
        {
          "name": "stdout",
          "output_type": "stream",
          "text": [
            "[1, 2, 3, 4, 5]\n"
          ]
        }
      ],
      "source": [
        "numbers = [1, 2, 3, 4, 5]\n",
        "print(numbers)"
      ]
    },
    {
      "cell_type": "markdown",
      "metadata": {
        "id": "aw7WwPfFH1L6"
      },
      "source": [
        "#7. Write a code to append the number 10 to the list [1, 2, 3, 4]."
      ]
    },
    {
      "cell_type": "code",
      "execution_count": null,
      "metadata": {
        "colab": {
          "base_uri": "https://localhost:8080/"
        },
        "id": "6eTKzOmuH4ng",
        "outputId": "02d32391-7262-49ac-d42a-38c96d46ac03"
      },
      "outputs": [
        {
          "name": "stdout",
          "output_type": "stream",
          "text": [
            "[1, 2, 3, 4, 10]\n"
          ]
        }
      ],
      "source": [
        "lst = [1, 2, 3, 4]\n",
        "lst.append(10)\n",
        "print(lst)"
      ]
    },
    {
      "cell_type": "markdown",
      "metadata": {
        "id": "v2BtfjSqH_0Y"
      },
      "source": [
        "#8. Write a code to remove the number 3 from the list [1, 2, 3, 4, 5]."
      ]
    },
    {
      "cell_type": "code",
      "execution_count": null,
      "metadata": {
        "colab": {
          "base_uri": "https://localhost:8080/"
        },
        "id": "g6XV9LweIE9M",
        "outputId": "5a2ee518-0eda-4df8-e410-aec0a8a33f09"
      },
      "outputs": [
        {
          "data": {
            "text/plain": [
              "[1, 2, 4, 5]"
            ]
          },
          "execution_count": 11,
          "metadata": {},
          "output_type": "execute_result"
        }
      ],
      "source": [
        "list = [1,2,3,4,5]\n",
        "list.remove(3)\n",
        "list"
      ]
    },
    {
      "cell_type": "markdown",
      "metadata": {
        "id": "p85DSHM_IXmQ"
      },
      "source": [
        "#9. Write a code to access the second element in the list ['a', 'b', 'c', 'd']."
      ]
    },
    {
      "cell_type": "code",
      "execution_count": null,
      "metadata": {
        "colab": {
          "base_uri": "https://localhost:8080/",
          "height": 35
        },
        "id": "soyEJ78GIdbo",
        "outputId": "2ec71213-4015-4fe1-e0a1-6b5153fd32ab"
      },
      "outputs": [
        {
          "data": {
            "application/vnd.google.colaboratory.intrinsic+json": {
              "type": "string"
            },
            "text/plain": [
              "'b'"
            ]
          },
          "execution_count": 13,
          "metadata": {},
          "output_type": "execute_result"
        }
      ],
      "source": [
        "list =  ['a', 'b', 'c', 'd']\n",
        "list[1]"
      ]
    },
    {
      "cell_type": "markdown",
      "metadata": {
        "id": "wmAOMHXZIxbC"
      },
      "source": [
        "#10. Write a code to reverse the list [10, 20, 30, 40, 50]."
      ]
    },
    {
      "cell_type": "code",
      "execution_count": null,
      "metadata": {
        "colab": {
          "base_uri": "https://localhost:8080/"
        },
        "id": "BzFoBhlmIzmi",
        "outputId": "984f9f61-b550-4f93-c9bd-fd277a3ef11d"
      },
      "outputs": [
        {
          "data": {
            "text/plain": [
              "[50, 40, 30, 20, 10]"
            ]
          },
          "execution_count": 15,
          "metadata": {},
          "output_type": "execute_result"
        }
      ],
      "source": [
        "list = [10, 20, 30, 40, 50]\n",
        "list[::-1]"
      ]
    },
    {
      "cell_type": "markdown",
      "metadata": {
        "id": "9t_f585PJCcU"
      },
      "source": [
        "#11. Write a code to create a tuple with the elements 100, 200, 300 and print it."
      ]
    },
    {
      "cell_type": "code",
      "execution_count": null,
      "metadata": {
        "colab": {
          "base_uri": "https://localhost:8080/"
        },
        "id": "haBDe_u7JHbL",
        "outputId": "27c6d695-2eb2-427d-f2e7-46ae1160fd1d"
      },
      "outputs": [
        {
          "name": "stdout",
          "output_type": "stream",
          "text": [
            "(100, 200, 300)\n"
          ]
        },
        {
          "data": {
            "text/plain": [
              "tuple"
            ]
          },
          "execution_count": 18,
          "metadata": {},
          "output_type": "execute_result"
        }
      ],
      "source": [
        "tpe = (100, 200, 300)\n",
        "print(tpe)\n",
        "type(tpe)"
      ]
    },
    {
      "cell_type": "markdown",
      "metadata": {
        "id": "2-JyjhGdJY6d"
      },
      "source": [
        "#12. Write a code to access the second-to-last element of the tuple ('red', 'green', 'blue', 'yellow')."
      ]
    },
    {
      "cell_type": "code",
      "execution_count": null,
      "metadata": {
        "colab": {
          "base_uri": "https://localhost:8080/"
        },
        "id": "MvmIbhBCJtbT",
        "outputId": "8239bac6-ce00-4432-8ade-fae08d0a2be6"
      },
      "outputs": [
        {
          "name": "stdout",
          "output_type": "stream",
          "text": [
            "blue\n"
          ]
        }
      ],
      "source": [
        "tup = ('red', 'green', 'blue', 'yellow')\n",
        "print(tup[-2])"
      ]
    },
    {
      "cell_type": "markdown",
      "metadata": {
        "id": "qlMLW0_KMEpv"
      },
      "source": [
        "#13. Write a code to find the minimum number in the tuple (10, 20, 5, 15)."
      ]
    },
    {
      "cell_type": "code",
      "execution_count": null,
      "metadata": {
        "colab": {
          "base_uri": "https://localhost:8080/"
        },
        "id": "phMVnqy3MStC",
        "outputId": "079bcb9e-e0bb-4dd3-a943-c170b1474c6d"
      },
      "outputs": [
        {
          "data": {
            "text/plain": [
              "5"
            ]
          },
          "execution_count": 24,
          "metadata": {},
          "output_type": "execute_result"
        }
      ],
      "source": [
        "tup = (10, 20, 5, 15)\n",
        "min(tup)"
      ]
    },
    {
      "cell_type": "markdown",
      "metadata": {
        "id": "C9nV7CbXWy7O"
      },
      "source": [
        "#14. Write a code to find the index of the element \"cat\" in the tuple ('dog', 'cat', 'rabbit')."
      ]
    },
    {
      "cell_type": "code",
      "execution_count": null,
      "metadata": {
        "colab": {
          "background_save": true,
          "base_uri": "https://localhost:8080/"
        },
        "id": "K7JAwxS4W8kn",
        "outputId": "ed83703f-9ed8-456a-f62c-4251cda6cf70"
      },
      "outputs": [
        {
          "data": {
            "text/plain": [
              "1"
            ]
          },
          "execution_count": 25,
          "metadata": {},
          "output_type": "execute_result"
        }
      ],
      "source": [
        "tup = ('dog', 'cat', 'rabbit')\n",
        "tup.index(\"cat\")"
      ]
    },
    {
      "cell_type": "markdown",
      "source": [
        "#15. Write a code to create a tuple containing three different fruits and check if \"kiwi\" is in it."
      ],
      "metadata": {
        "id": "9F0PYu1dXhYs"
      }
    },
    {
      "cell_type": "code",
      "source": [
        "tup = (\"apple\", \"banana\", \"cherry\")\n",
        "print(\"kiwi\" in tup)"
      ],
      "metadata": {
        "colab": {
          "base_uri": "https://localhost:8080/"
        },
        "id": "1IadAJqCXnNN",
        "outputId": "507378aa-e7e4-42b4-f20f-944f40305b12"
      },
      "execution_count": 28,
      "outputs": [
        {
          "output_type": "stream",
          "name": "stdout",
          "text": [
            "False\n"
          ]
        }
      ]
    },
    {
      "cell_type": "markdown",
      "source": [
        "#16. Write a code to create a set with the elements 'a', 'b', 'c' and print it."
      ],
      "metadata": {
        "id": "s-otF4FiXwle"
      }
    },
    {
      "cell_type": "code",
      "source": [
        "s = {'a','b','c'}\n",
        "type(s)"
      ],
      "metadata": {
        "colab": {
          "base_uri": "https://localhost:8080/"
        },
        "id": "BhPyYY8_X093",
        "outputId": "5a2fa6bb-d9b5-4682-bd36-d544e52098eb"
      },
      "execution_count": 29,
      "outputs": [
        {
          "output_type": "execute_result",
          "data": {
            "text/plain": [
              "set"
            ]
          },
          "metadata": {},
          "execution_count": 29
        }
      ]
    },
    {
      "cell_type": "markdown",
      "source": [
        "#17. Write a code to clear all elements from the set {1, 2, 3, 4, 5}."
      ],
      "metadata": {
        "id": "oHFdpoqYX_dx"
      }
    },
    {
      "cell_type": "code",
      "source": [
        "s = {1, 2, 3, 4, 5}\n",
        "print(s) #set with value\n",
        "s.clear()\n",
        "s #empty set"
      ],
      "metadata": {
        "colab": {
          "base_uri": "https://localhost:8080/"
        },
        "id": "4HimJg5kYDiu",
        "outputId": "f0b164f9-07f6-4461-eb59-4aa282b8e0ce"
      },
      "execution_count": 30,
      "outputs": [
        {
          "output_type": "stream",
          "name": "stdout",
          "text": [
            "{1, 2, 3, 4, 5}\n"
          ]
        },
        {
          "output_type": "execute_result",
          "data": {
            "text/plain": [
              "set()"
            ]
          },
          "metadata": {},
          "execution_count": 30
        }
      ]
    },
    {
      "cell_type": "markdown",
      "source": [
        "#18. Write a code to remove the element 4 from the set {1, 2, 3, 4}."
      ],
      "metadata": {
        "id": "a5z4n_l-ZH4K"
      }
    },
    {
      "cell_type": "code",
      "source": [
        "s =  {1, 2, 3, 4}\n",
        "s.remove(4)\n",
        "s"
      ],
      "metadata": {
        "colab": {
          "base_uri": "https://localhost:8080/"
        },
        "id": "ImQt85wgZOO5",
        "outputId": "1fccd558-527a-4746-8e91-5b7173f64cf1"
      },
      "execution_count": 31,
      "outputs": [
        {
          "output_type": "execute_result",
          "data": {
            "text/plain": [
              "{1, 2, 3}"
            ]
          },
          "metadata": {},
          "execution_count": 31
        }
      ]
    },
    {
      "cell_type": "markdown",
      "source": [
        "#19. Write a code to find the union of two sets {1, 2, 3} and {3, 4, 5}."
      ],
      "metadata": {
        "id": "BCPiYEfsZXyr"
      }
    },
    {
      "cell_type": "code",
      "source": [
        "s1 =  {1, 2, 3}\n",
        "s2 = {3, 4, 5}\n",
        "s1 | s2"
      ],
      "metadata": {
        "colab": {
          "base_uri": "https://localhost:8080/"
        },
        "id": "zrT1CPbSZegk",
        "outputId": "5df3d47c-736c-4122-fe74-b25434f2d136"
      },
      "execution_count": 32,
      "outputs": [
        {
          "output_type": "execute_result",
          "data": {
            "text/plain": [
              "{1, 2, 3, 4, 5}"
            ]
          },
          "metadata": {},
          "execution_count": 32
        }
      ]
    },
    {
      "cell_type": "markdown",
      "source": [
        "#20. Write a code to find the intersection of two sets {1, 2, 3} and {2, 3, 4}."
      ],
      "metadata": {
        "id": "ECAbK3yzZ-Cd"
      }
    },
    {
      "cell_type": "code",
      "source": [
        "s1 = {1, 2, 3}\n",
        "s2 = {2, 3, 4}\n",
        "s1 & s2"
      ],
      "metadata": {
        "colab": {
          "base_uri": "https://localhost:8080/"
        },
        "id": "GlV6L-u9aEdQ",
        "outputId": "2f598728-5605-474c-ae9d-5606901806c7"
      },
      "execution_count": 34,
      "outputs": [
        {
          "output_type": "execute_result",
          "data": {
            "text/plain": [
              "{2, 3}"
            ]
          },
          "metadata": {},
          "execution_count": 34
        }
      ]
    },
    {
      "cell_type": "markdown",
      "source": [
        "#21. Write a code to create a dictionary with the keys \"name\", \"age\", and \"city\", and print it."
      ],
      "metadata": {
        "id": "n7Vf4yXsam9s"
      }
    },
    {
      "cell_type": "code",
      "source": [
        "person = {\"name\": \"Hariom\", \"age\": 24, \"city\": \"Surat\"}\n",
        "print(person)\n"
      ],
      "metadata": {
        "colab": {
          "base_uri": "https://localhost:8080/"
        },
        "id": "1fngytH-arXe",
        "outputId": "1dc6c31a-6072-43df-d36a-ffb6928e7968"
      },
      "execution_count": 37,
      "outputs": [
        {
          "output_type": "stream",
          "name": "stdout",
          "text": [
            "{'name': 'Hariom', 'age': 24, 'city': 'Surat'}\n"
          ]
        }
      ]
    },
    {
      "cell_type": "markdown",
      "source": [
        "#22. Write a code to add a new key-value pair \"country\": \"USA\" to the dictionary {'name': 'John', 'age': 25}."
      ],
      "metadata": {
        "id": "pnkSdsM6bCch"
      }
    },
    {
      "cell_type": "code",
      "source": [
        "person = {'name':'john','age':25}\n",
        "person['country']=\"USA\"\n",
        "person"
      ],
      "metadata": {
        "colab": {
          "base_uri": "https://localhost:8080/"
        },
        "id": "iIciCyEwbEty",
        "outputId": "8e70602a-413c-46dc-8148-1d8e40345714"
      },
      "execution_count": 39,
      "outputs": [
        {
          "output_type": "execute_result",
          "data": {
            "text/plain": [
              "{'name': 'john', 'age': 25, 'country': 'USA'}"
            ]
          },
          "metadata": {},
          "execution_count": 39
        }
      ]
    },
    {
      "cell_type": "markdown",
      "source": [
        "#23. Write a code to access the value associated with the key \"name\" in the dictionary {'name': 'Alice', 'age': 30}."
      ],
      "metadata": {
        "id": "w-yBdNJzbk22"
      }
    },
    {
      "cell_type": "code",
      "source": [
        "person = {'name': 'Alice', 'age': 30}\n",
        "person['name']"
      ],
      "metadata": {
        "colab": {
          "base_uri": "https://localhost:8080/",
          "height": 35
        },
        "id": "jwsvfEVZbt-d",
        "outputId": "0d8c3361-eed9-4013-9849-cb874ec897c4"
      },
      "execution_count": 40,
      "outputs": [
        {
          "output_type": "execute_result",
          "data": {
            "text/plain": [
              "'Alice'"
            ],
            "application/vnd.google.colaboratory.intrinsic+json": {
              "type": "string"
            }
          },
          "metadata": {},
          "execution_count": 40
        }
      ]
    },
    {
      "cell_type": "markdown",
      "source": [
        "#24. Write a code to remove the key \"age\" from the dictionary {'name': 'Bob', 'age': 22, 'city': 'New York'}."
      ],
      "metadata": {
        "id": "DO6kBBahcm0e"
      }
    },
    {
      "cell_type": "code",
      "source": [
        "p = {'name': 'Bob', 'age': 22, 'city': 'New York'}\n",
        "p.pop('age')\n",
        "p"
      ],
      "metadata": {
        "colab": {
          "base_uri": "https://localhost:8080/"
        },
        "id": "983s966udBhH",
        "outputId": "93525d65-49b6-4cd2-8823-e81afc83fbfc"
      },
      "execution_count": 42,
      "outputs": [
        {
          "output_type": "execute_result",
          "data": {
            "text/plain": [
              "{'name': 'Bob', 'city': 'New York'}"
            ]
          },
          "metadata": {},
          "execution_count": 42
        }
      ]
    },
    {
      "cell_type": "markdown",
      "source": [
        "#25. Write a code to check if the key \"city\" exists in the dictionary {'name': 'Alice', 'city': 'Paris'}."
      ],
      "metadata": {
        "id": "pvoeSt5adgp5"
      }
    },
    {
      "cell_type": "code",
      "source": [
        "p = {'name': 'Alice', 'city': 'Paris'}\n",
        "\"city\" in p"
      ],
      "metadata": {
        "colab": {
          "base_uri": "https://localhost:8080/"
        },
        "id": "B48405UJdkjm",
        "outputId": "765ea9cc-3353-43c2-f311-d42df55ae6aa"
      },
      "execution_count": 44,
      "outputs": [
        {
          "output_type": "execute_result",
          "data": {
            "text/plain": [
              "True"
            ]
          },
          "metadata": {},
          "execution_count": 44
        }
      ]
    },
    {
      "cell_type": "markdown",
      "source": [
        "#26. Write a code to create a list, a tuple, and a dictionary, and print them all."
      ],
      "metadata": {
        "id": "0esrW8L5dxsw"
      }
    },
    {
      "cell_type": "code",
      "source": [
        "lst = [1, 2, 3]\n",
        "tup = (4, 5, 6)\n",
        "dic = {\"a\": 7, \"b\": 8}\n",
        "print(lst, tup, dic)"
      ],
      "metadata": {
        "colab": {
          "base_uri": "https://localhost:8080/"
        },
        "id": "H1nNfANhd3jS",
        "outputId": "95e1220a-16a3-46aa-b73e-276e183d76e1"
      },
      "execution_count": 45,
      "outputs": [
        {
          "output_type": "stream",
          "name": "stdout",
          "text": [
            "[1, 2, 3] (4, 5, 6) {'a': 7, 'b': 8}\n"
          ]
        }
      ]
    },
    {
      "cell_type": "markdown",
      "source": [
        "#27. Write a code to create a list of 5 random numbers between 1 and 100, sort it in ascending order, and print the result."
      ],
      "metadata": {
        "id": "Mu4hTqlseMS-"
      }
    },
    {
      "cell_type": "code",
      "source": [
        "import random\n",
        "lst = sorted(random.sample(range(1, 101), 5))\n",
        "print(lst)"
      ],
      "metadata": {
        "colab": {
          "base_uri": "https://localhost:8080/"
        },
        "id": "kQC4JaggeRY9",
        "outputId": "25e71ebb-609f-4561-ae40-dbce437c769b"
      },
      "execution_count": 46,
      "outputs": [
        {
          "output_type": "stream",
          "name": "stdout",
          "text": [
            "[11, 19, 26, 64, 82]\n"
          ]
        }
      ]
    },
    {
      "cell_type": "markdown",
      "source": [
        "#28. Write a code to create a list with strings and print the element at the third index."
      ],
      "metadata": {
        "id": "PZVC5Be0fGty"
      }
    },
    {
      "cell_type": "code",
      "source": [
        "lst = [\"apple\", \"banana\", \"cherry\", \"date\", \"fig\"]\n",
        "print(lst[3])"
      ],
      "metadata": {
        "colab": {
          "base_uri": "https://localhost:8080/"
        },
        "id": "6JGfDGNIfMEH",
        "outputId": "6e5f4dda-3504-4092-f0a1-501f58545fc2"
      },
      "execution_count": 49,
      "outputs": [
        {
          "output_type": "stream",
          "name": "stdout",
          "text": [
            "date\n"
          ]
        }
      ]
    },
    {
      "cell_type": "markdown",
      "source": [
        "#29. Write a code to combine two dictionaries into one and print the result."
      ],
      "metadata": {
        "id": "wd7lnf5cgGxX"
      }
    },
    {
      "cell_type": "code",
      "source": [
        "dic1 = {\"a\": 1, \"b\": 2}\n",
        "dic2 = {\"c\": 3, \"d\": 4}\n",
        "dic1.update(dic2)\n",
        "print(dic1)"
      ],
      "metadata": {
        "colab": {
          "base_uri": "https://localhost:8080/"
        },
        "id": "QZxTNUsigLJ-",
        "outputId": "f2af7669-b1df-4bc8-a008-6010969d3488"
      },
      "execution_count": 50,
      "outputs": [
        {
          "output_type": "stream",
          "name": "stdout",
          "text": [
            "{'a': 1, 'b': 2, 'c': 3, 'd': 4}\n"
          ]
        }
      ]
    },
    {
      "cell_type": "markdown",
      "source": [
        "#30. Write a code to convert a list of strings into a set."
      ],
      "metadata": {
        "id": "fmO0hbtggcqD"
      }
    },
    {
      "cell_type": "code",
      "source": [
        "lst = [\"apple\", \"banana\", \"apple\", \"cherry\"]\n",
        "print(set(lst))"
      ],
      "metadata": {
        "colab": {
          "base_uri": "https://localhost:8080/"
        },
        "id": "mn61ulO0ggk5",
        "outputId": "5088662e-cecd-497a-ffd0-28065acb4a83"
      },
      "execution_count": 54,
      "outputs": [
        {
          "output_type": "stream",
          "name": "stdout",
          "text": [
            "{'cherry', 'banana', 'apple'}\n"
          ]
        }
      ]
    }
  ],
  "metadata": {
    "colab": {
      "provenance": []
    },
    "kernelspec": {
      "display_name": "Python 3",
      "name": "python3"
    },
    "language_info": {
      "name": "python"
    }
  },
  "nbformat": 4,
  "nbformat_minor": 0
}